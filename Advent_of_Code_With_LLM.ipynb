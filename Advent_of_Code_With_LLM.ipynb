{
 "cells": [
  {
   "cell_type": "markdown",
   "id": "26805969-5d17-4ed8-9595-1f02b400fcb4",
   "metadata": {},
   "source": [
    "# System prompt "
   ]
  },
  {
   "cell_type": "markdown",
   "id": "b1546ba7-a9e4-4ca1-8ab7-a954ddb38077",
   "metadata": {},
   "source": [
    "I need help solving an Advent of Code 2024 problem. I'll share the problem description below. Please help me by:\n",
    "\n",
    "Creating a Python solution that includes:\n",
    "\n",
    "- A function to read and parse the input from 'input.txt'\n",
    "- The main solution logic with clear comments explaining the approach\n",
    "- Example usage showing how to run the solution\n",
    "\n",
    "\n",
    "First explain your general approach/strategy for solving the problem\n",
    "If there are any edge cases or assumptions we should consider, please point them out"
   ]
  },
  {
   "cell_type": "markdown",
   "id": "d9aa0bb8-9843-4461-9afe-2fed084f0cda",
   "metadata": {
    "jp-MarkdownHeadingCollapsed": true
   },
   "source": [
    "# --- Day 1: Historian Hysteria ---"
   ]
  },
  {
   "cell_type": "markdown",
   "id": "7074d51d-8078-494c-9944-de000c6d417c",
   "metadata": {},
   "source": [
    "The Chief Historian is always present for the big Christmas sleigh launch, but nobody has seen him in months! Last anyone heard, he was visiting locations that are historically significant to the North Pole; a group of Senior Historians has asked you to accompany them as they check the places they think he was most likely to visit.\n",
    "\n",
    "As each location is checked, they will mark it on their list with a star. They figure the Chief Historian must be in one of the first fifty places they'll look, so in order to save Christmas, you need to help them get fifty stars on their list before Santa takes off on December 25th.\n",
    "\n",
    "Collect stars by solving puzzles. Two puzzles will be made available on each day in the Advent calendar; the second puzzle is unlocked when you complete the first. Each puzzle grants one star. Good luck!\n",
    "\n",
    "You haven't even left yet and the group of Elvish Senior Historians has already hit a problem: their list of locations to check is currently empty. Eventually, someone decides that the best place to check first would be the Chief Historian's office.\n",
    "\n",
    "Upon pouring into the office, everyone confirms that the Chief Historian is indeed nowhere to be found. Instead, the Elves discover an assortment of notes and lists of historically significant locations! This seems to be the planning the Chief Historian was doing before he left. Perhaps these notes can be used to determine which locations to search?\n",
    "\n",
    "Throughout the Chief's office, the historically significant locations are listed not by name but by a unique number called the location ID. To make sure they don't miss anything, The Historians split into two groups, each searching the office and trying to create their own complete list of location IDs."
   ]
  },
  {
   "cell_type": "markdown",
   "id": "d6a295a7-4f9b-4a27-935d-a84a42844a66",
   "metadata": {},
   "source": [
    "## Quiz 1"
   ]
  },
  {
   "cell_type": "markdown",
   "id": "c40ea332-bd4d-4ee6-ac5c-9c49b43fc60f",
   "metadata": {},
   "source": [
    "\n",
    "**There's just one problem: by holding the two lists up side by side (your puzzle input), it quickly becomes clear that the lists aren't very similar. Maybe you can help The Historians reconcile their lists?**\n",
    "\n",
    "For example:\n",
    "\n",
    "3   4\\\n",
    "4   3\\\n",
    "2   5\\\n",
    "1   3\\\n",
    "3   9\\\n",
    "3   3\n",
    "\n",
    "Maybe the lists are only off by a small amount! To find out, pair up the numbers and measure how far apart they are. Pair up the smallest number in the left list with the smallest number in the right list, then the second-smallest left number with the second-smallest right number, and so on.\n",
    "\n",
    "Within each pair, figure out how far apart the two numbers are; you'll need to add up all of those distances. For example, if you pair up a 3 from the left list with a 7 from the right list, the distance apart is 4; if you pair up a 9 with a 3, the distance apart is 6.\n",
    "\n",
    "In the example list above, the pairs and distances would be as follows:\n",
    "\n",
    "- The smallest number in the left list is 1, and the smallest number in the right list is 3. The distance between them is 2.\n",
    "- The second-smallest number in the left list is 2, and the second-smallest number in the right list is another 3. The distance between them is 1.\n",
    "- The third-smallest number in both lists is 3, so the distance between them is 0.\n",
    "- The next numbers to pair up are 3 and 4, a distance of 1.\n",
    "- The fifth-smallest numbers in each list are 3 and 5, a distance of 2.\n",
    "- Finally, the largest number in the left list is 4, while the largest number in the right list is 9; these are a distance 5 apart.\n",
    "\n",
    "To find the total distance between the left list and the right list, add up the distances between all of the pairs you found. In the example above, this is 2 + 1 + 0 + 1 + 2 + 5, a total distance of 11!\n",
    "\n",
    "**Your actual left and right lists contain many location IDs. What is the total distance between your lists?**"
   ]
  },
  {
   "cell_type": "markdown",
   "id": "551ea44a-d1b3-404f-a229-8677b37f88f7",
   "metadata": {},
   "source": [
    "### LLma Response\n",
    "\n",
    "#### General Approach\n",
    "To solve this problem, we will:\n",
    "1. Read and parse the input from 'input.txt', splitting it into two lists.\n",
    "2. Sort both lists in ascending order to prepare for pairing.\n",
    "3. Pair the corresponding elements from both sorted lists.\n",
    "4. Calculate the absolute difference between each pair of numbers, which represents the distance between them.\n",
    "5. Sum up all these distances to find the total distance between the two lists.\n",
    "\n",
    "#### Edge Cases and Assumptions\n",
    "- The input file 'input.txt' is assumed to contain an equal number of elements in both lists.\n",
    "- Each line in the input file contains two integers separated by space or tab.\n",
    "- The input lists may not be sorted initially."
   ]
  },
  {
   "cell_type": "code",
   "execution_count": 5,
   "id": "a4f67968-7144-48a6-b12f-64247354422b",
   "metadata": {},
   "outputs": [
    {
     "name": "stdout",
     "output_type": "stream",
     "text": [
      "The total distance between the lists is: 1651298\n"
     ]
    }
   ],
   "source": [
    "def read_input(filename):\n",
    "    \"\"\"\n",
    "    Read input from file, parsing it into two lists of integers.\n",
    "\n",
    "    Args:\n",
    "        filename (str): Name of the input file.\n",
    "\n",
    "    Returns:\n",
    "        list: A list of two lists of integers.\n",
    "    \"\"\"\n",
    "    left_list = []\n",
    "    right_list = []\n",
    "    try:\n",
    "        with open(filename, 'r') as file:\n",
    "            for line in file:\n",
    "                left, right = line.strip().split()\n",
    "                left_list.append(int(left))\n",
    "                right_list.append(int(right))\n",
    "    except FileNotFoundError:\n",
    "        print(f\"File {filename} not found.\")\n",
    "        return [], []\n",
    "    except Exception as e:\n",
    "        print(f\"An error occurred: {e}\")\n",
    "        return [], []\n",
    "    return left_list, right_list\n",
    "\n",
    "\n",
    "def calculate_distance(left_list, right_list):\n",
    "    \"\"\"\n",
    "    Calculate the total distance between two lists by pairing corresponding sorted elements.\n",
    "\n",
    "    Args:\n",
    "        left_list (list): The first list of integers.\n",
    "        right_list (list): The second list of integers.\n",
    "\n",
    "    Returns:\n",
    "        int: The total distance between the two lists.\n",
    "    \"\"\"\n",
    "    # Sort both lists in ascending order\n",
    "    left_list.sort()\n",
    "    right_list.sort()\n",
    "    \n",
    "    # Calculate the total distance\n",
    "    total_distance = sum(abs(left - right) for left, right in zip(left_list, right_list))\n",
    "    \n",
    "    return total_distance\n",
    "\n",
    "\n",
    "def main():\n",
    "    filename = 'input_1.txt'\n",
    "    left_list, right_list = read_input(filename)\n",
    "    if left_list and right_list:\n",
    "        total_distance = calculate_distance(left_list, right_list)\n",
    "        print(f\"The total distance between the lists is: {total_distance}\")\n",
    "    else:\n",
    "        print(\"No input found or an error occurred.\")\n",
    "\n",
    "\n",
    "if __name__ == \"__main__\":\n",
    "    main()"
   ]
  },
  {
   "cell_type": "markdown",
   "id": "9c900a97-74e5-437d-bae9-7f5f5da17bbb",
   "metadata": {},
   "source": [
    "#### Example Usage\n",
    "1. Save the above code into a Python file (e.g., `solution.py`).\n",
    "2. Place your input file (`input.txt`) in the same directory as `solution.py`.\n",
    "3. Run the Python script using your Python interpreter.\n",
    "4. The script will print the total distance between the two lists found in `input.txt`.\n",
    "\n",
    "This solution follows the described steps, handling the input, sorting the lists, pairing the elements, calculating the distances, and summing them up to find the total distance. It also includes basic error handling for file operations."
   ]
  },
  {
   "cell_type": "markdown",
   "id": "42f613e5-013c-4b44-9675-08d239b60c48",
   "metadata": {},
   "source": [
    "## Quiz 2"
   ]
  },
  {
   "cell_type": "markdown",
   "id": "780b8406-093e-4161-a785-8b4009b107bc",
   "metadata": {},
   "source": [
    "The first half of this puzzle is complete! It provides one gold star: *\n",
    "\n",
    "--- Part Two ---\n",
    "Your analysis only confirmed what everyone feared: the two lists of location IDs are indeed very different.\n",
    "\n",
    "Or are they?\n",
    "\n",
    "The Historians can't agree on which group made the mistakes or how to read most of the Chief's handwriting, but in the commotion you notice an interesting detail: a lot of location IDs appear in both lists! Maybe the other numbers aren't location IDs at all but rather misinterpreted handwriting.\n",
    "\n",
    "This time, you'll need to figure out exactly how often each number from the left list appears in the right list. Calculate a total similarity score by adding up each number in the left list after multiplying it by the number of times that number appears in the right list.\n",
    "\n",
    "Here are the same example lists again:\n",
    "\n",
    "3   4\\\n",
    "4   3\\\n",
    "2   5\\\n",
    "1   3\\\n",
    "3   9\\\n",
    "3   3\n",
    "\n",
    "For these example lists, here is the process of finding the similarity score:\n",
    "\n",
    "- The first number in the left list is 3. It appears in the right list three times, so the similarity score increases by 3 * 3 = 9.\n",
    "- The second number in the left list is 4. It appears in the right list once, so the similarity score increases by 4 * 1 = 4.\n",
    "- The third number in the left list is 2. It does not appear in the right list, so the similarity score does not increase (2 * 0 = 0).\n",
    "- The fourth number, 1, also does not appear in the right list.\n",
    "- The fifth number, 3, appears in the right list three times; the similarity score increases by 9.\n",
    "- The last number, 3, appears in the right list three times; the similarity score again increases by 9.\n",
    "So, for these example lists, the similarity score at the end of this process is 31 (9 + 4 + 0 + 0 + 9 + 9).\n",
    "\n",
    "**Once again consider your left and right lists. What is their similarity score?**"
   ]
  },
  {
   "cell_type": "markdown",
   "id": "30a60184-78bb-4173-8f9c-172932d6cdd2",
   "metadata": {},
   "source": [
    "### LLma Respose\n",
    "#### General Approach\n",
    "To solve this part of the problem, we will:\n",
    "1. Count the occurrences of each number in the right list.\n",
    "2. For each number in the left list, multiply it by the count of occurrences of that number in the right list.\n",
    "3. Sum up all these products to find the total similarity score.\n",
    "\n",
    "#### Edge Cases and Assumptions\n",
    "- The input file 'input.txt' is assumed to contain an equal number of elements in both lists.\n",
    "- Each line in the input file contains two integers separated by space or tab.\n"
   ]
  },
  {
   "cell_type": "code",
   "execution_count": 10,
   "id": "7136021b-88de-4a9f-9853-6e631a4180dd",
   "metadata": {},
   "outputs": [
    {
     "name": "stdout",
     "output_type": "stream",
     "text": [
      "The similarity score is: 21306195\n"
     ]
    }
   ],
   "source": [
    "def calculate_similarity(left_list, right_list):\n",
    "    \"\"\"\n",
    "    Calculate the similarity score between two lists by multiplying each number in the left list by its count in the right list.\n",
    "\n",
    "    Args:\n",
    "        left_list (list): The first list of integers.\n",
    "        right_list (list): The second list of integers.\n",
    "\n",
    "    Returns:\n",
    "        int: The total similarity score between the two lists.\n",
    "    \"\"\"\n",
    "    # Count the occurrences of each number in the right list\n",
    "    right_counts = {}\n",
    "    for num in right_list:\n",
    "        if num in right_counts:\n",
    "            right_counts[num] += 1\n",
    "        else:\n",
    "            right_counts[num] = 1\n",
    "    \n",
    "    # Calculate the total similarity score\n",
    "    similarity_score = sum(num * right_counts.get(num, 0) for num in left_list)\n",
    "    \n",
    "    return similarity_score\n",
    "\n",
    "\n",
    "def main():\n",
    "    filename = 'input_1.txt'\n",
    "    left_list, right_list = read_input(filename)\n",
    "    if left_list and right_list:\n",
    "        similarity_score = calculate_similarity(left_list, right_list)\n",
    "        print(f\"The similarity score is: {similarity_score}\")\n",
    "    else:\n",
    "        print(\"No input found or an error occurred.\")\n",
    "\n",
    "\n",
    "if __name__ == \"__main__\":\n",
    "    main()"
   ]
  },
  {
   "cell_type": "markdown",
   "id": "299d5bfb-59eb-42fe-8198-7e37848ed84d",
   "metadata": {},
   "source": [
    "#### Example Usage\n",
    "1. Save the above code into a Python file (e.g., `solution.py`).\n",
    "2. Place your input file (`input.txt`) in the same directory as `solution.py`.\n",
    "3. Run the Python script using your Python interpreter.\n",
    "4. The script will print the similarity score between the two lists found in `input.txt`.\n",
    "\n",
    "This solution follows the described steps, handling the input, counting occurrences in the right list, calculating the similarity score for each number in the left list, and summing them up to find the total similarity score. It also includes basic error handling for file operations.\n",
    "\n",
    "Alternatively, you could use a `Counter` object from the `collections` module to simplify the counting step:\n",
    "\n"
   ]
  },
  {
   "cell_type": "code",
   "execution_count": 11,
   "id": "5ba5cb15-e70a-4598-8f53-922842275d0e",
   "metadata": {},
   "outputs": [
    {
     "name": "stdout",
     "output_type": "stream",
     "text": [
      "The similarity score is: 21306195\n"
     ]
    }
   ],
   "source": [
    "from collections import Counter\n",
    "\n",
    "def calculate_similarity(left_list, right_list):\n",
    "    right_counts = Counter(right_list)\n",
    "    similarity_score = sum(num * right_counts.get(num, 0) for num in left_list)\n",
    "    return similarity_score\n",
    "\n",
    "filename = 'input.txt'\n",
    "left_list, right_list = read_input(filename)\n",
    "if left_list and right_list:\n",
    "    similarity_score = calculate_similarity(left_list, right_list)\n",
    "    print(f\"The similarity score is: {similarity_score}\")\n",
    "else:\n",
    "        print(\"No input found or an error occurred.\")"
   ]
  },
  {
   "cell_type": "markdown",
   "id": "a7baf5c4-2dc9-41ad-8bb4-2cbf02993407",
   "metadata": {
    "jp-MarkdownHeadingCollapsed": true
   },
   "source": [
    "# --- Day 2: Red-Nosed Reports ---"
   ]
  },
  {
   "cell_type": "markdown",
   "id": "a1f23e7a-2824-4d85-9a9f-6570fc108b35",
   "metadata": {},
   "source": [
    "Fortunately, the first location The Historians want to search isn't a long walk from the Chief Historian's office.\n",
    "\n",
    "While the Red-Nosed Reindeer nuclear fusion/fission plant appears to contain no sign of the Chief Historian, the engineers there run up to you as soon as they see you. Apparently, they still talk about the time Rudolph was saved through molecular synthesis from a single electron.\n",
    "\n",
    "They're quick to add that - since you're already here - they'd really appreciate your help analyzing some unusual data from the Red-Nosed reactor. You turn to check if The Historians are waiting for you, but they seem to have already divided into groups that are currently searching every corner of the facility. You offer to help with the unusual data."
   ]
  },
  {
   "cell_type": "markdown",
   "id": "59e6fe2d-93c5-49cb-af6d-d0bd940b5dba",
   "metadata": {
    "jp-MarkdownHeadingCollapsed": true
   },
   "source": [
    "## Quiz 1\n"
   ]
  },
  {
   "cell_type": "markdown",
   "id": "0f8516f7-8905-4164-afb8-a1ccc3965fd6",
   "metadata": {},
   "source": [
    "\n",
    "The unusual data (your puzzle input) consists of many reports, one report per line. Each report is a list of numbers called levels that are separated by spaces. For example:\n",
    "\n",
    "7 6 4 2 1\\\n",
    "1 2 7 8 9\\\n",
    "9 7 6 2 1\\\n",
    "1 3 2 4 5\\\n",
    "8 6 4 4 1\\\n",
    "1 3 6 7 9\n",
    "\n",
    "This example data contains six reports each containing five levels.\n",
    "\n",
    "The engineers are trying to figure out which reports are safe. The Red-Nosed reactor safety systems can only tolerate levels that are either gradually increasing or gradually decreasing. So, a report only counts as safe if both of the following are true:\n",
    "\n",
    "- The levels are either all increasing or all decreasing.\n",
    "- Any two adjacent levels differ by at least one and at most three.\n",
    "\n",
    "In the example above, the reports can be found safe or unsafe by checking those rules:\n",
    "\n",
    "- 7 6 4 2 1: Safe because the levels are all decreasing by 1 or 2. \n",
    "- 1 2 7 8 9: Unsafe because 2 7 is an increase of 5.\n",
    "- 9 7 6 2 1: Unsafe because 6 2 is a decrease of 4. \n",
    "- 1 3 2 4 5: Unsafe because 1 3 is increasing but 3 2 is decreasing.\n",
    "- 8 6 4 4 1: Unsafe because 4 4 is neither an increase or a decrease. \n",
    "- 1 3 6 7 9: Safe because the levels are all increasing by 1, 2, or 3.\n",
    "  \n",
    "So, in this example, 2 reports are safe.\n",
    "\n",
    "**Analyze the unusual data from the engineers. How many reports are safe?**"
   ]
  },
  {
   "cell_type": "markdown",
   "id": "162b6fae-bb07-4ed0-8e6f-035580dc31fb",
   "metadata": {
    "jp-MarkdownHeadingCollapsed": true
   },
   "source": [
    "### LLma Response \n",
    "#### General Approach\n",
    "To solve this problem, we will:\n",
    "1. Read the input reports from the file, one report per line, where each report is a list of numbers separated by spaces.\n",
    "2. For each report, check if the levels are either all increasing or all decreasing.\n",
    "3. Check if any two adjacent levels differ by at least one and at most three.\n",
    "4. If both conditions are true for a report, count it as safe.\n",
    "5. Sum up the counts of all safe reports to find the total number of safe reports.\n",
    "\n",
    "#### Edge Cases and Assumptions\n",
    "- The input file is assumed to exist and contain valid reports, with each report containing the same number of levels.\n",
    "- Each line in the input file contains a report, which is a list of integers separated by spaces.\n",
    "- The levels within a report are assumed to be integers."
   ]
  },
  {
   "cell_type": "code",
   "execution_count": 17,
   "id": "6dec70c9-914e-4fd9-9ac6-0b70aa152119",
   "metadata": {},
   "outputs": [
    {
     "name": "stdout",
     "output_type": "stream",
     "text": [
      "The number of safe reports is: 502\n"
     ]
    }
   ],
   "source": [
    "def read_input(filename):\n",
    "    \"\"\"\n",
    "    Read input from file, parsing it into a list of reports.\n",
    "\n",
    "    Args:\n",
    "        filename (str): Name of the input file.\n",
    "\n",
    "    Returns:\n",
    "        list: A list of reports, where each report is a list of integers.\n",
    "    \"\"\"\n",
    "    reports = []\n",
    "    try:\n",
    "        with open(filename, 'r') as file:\n",
    "            for line in file:\n",
    "                report = [int(level) for level in line.strip().split()]\n",
    "                reports.append(report)\n",
    "    except FileNotFoundError:\n",
    "        print(f\"File {filename} not found.\")\n",
    "        return []\n",
    "    except Exception as e:\n",
    "        print(f\"An error occurred: {e}\")\n",
    "        return []\n",
    "    return reports\n",
    "\n",
    "\n",
    "def is_safe(report):\n",
    "    \"\"\"\n",
    "    Check if a report is safe.\n",
    "\n",
    "    A report is safe if:\n",
    "    - The levels are either all increasing or all decreasing.\n",
    "    - Any two adjacent levels differ by at least one and at most three.\n",
    "\n",
    "    Args:\n",
    "        report (list): A list of integers representing the levels in the report.\n",
    "\n",
    "    Returns:\n",
    "        bool: True if the report is safe, False otherwise.\n",
    "    \"\"\"\n",
    "    is_increasing = is_decreasing = True\n",
    "\n",
    "    for i in range(len(report) - 1):\n",
    "        diff = abs(report[i] - report[i + 1])\n",
    "        if diff < 1 or diff > 3:\n",
    "            return False\n",
    "        if report[i] > report[i + 1]:\n",
    "            is_increasing = False\n",
    "        if report[i] < report[i + 1]:\n",
    "            is_decreasing = False\n",
    "\n",
    "    return is_increasing or is_decreasing\n",
    "\n",
    "\n",
    "def count_safe_reports(reports):\n",
    "    \"\"\"\n",
    "    Count the number of safe reports.\n",
    "\n",
    "    Args:\n",
    "        reports (list): A list of reports, where each report is a list of integers.\n",
    "\n",
    "    Returns:\n",
    "        int: The number of safe reports.\n",
    "    \"\"\"\n",
    "    safe_count = 0\n",
    "    for report in reports:\n",
    "        if is_safe(report):\n",
    "            safe_count += 1\n",
    "    return safe_count\n",
    "\n",
    "\n",
    "def main():\n",
    "    filename = 'input_2.txt'\n",
    "    reports = read_input(filename)\n",
    "    if reports:\n",
    "        safe_count = count_safe_reports(reports)\n",
    "        print(f\"The number of safe reports is: {safe_count}\")\n",
    "    else:\n",
    "        print(\"No input found or an error occurred.\")\n",
    "\n",
    "\n",
    "if __name__ == \"__main__\":\n",
    "    main()"
   ]
  },
  {
   "cell_type": "markdown",
   "id": "44bb0ca9-5f4b-4d9c-b342-93f9cdd9b040",
   "metadata": {},
   "source": [
    "#### Example Usage\n",
    "1. Save the above code into a Python file (e.g., `solution.py`).\n",
    "2. Place your input file (`input.txt`) in the same directory as `solution.py`.\n",
    "3. Run the Python script using your Python interpreter.\n",
    "4. The script will print the number of safe reports found in `input.txt`.\n",
    "\n",
    "This solution follows the described steps, handling the input, checking the safety conditions for each report, and counting the safe reports. It also includes basic error handling for file operations."
   ]
  },
  {
   "cell_type": "markdown",
   "id": "b4f17864-bbda-4ee4-a94a-88d064844f62",
   "metadata": {
    "jp-MarkdownHeadingCollapsed": true
   },
   "source": [
    "## Quiz 2"
   ]
  },
  {
   "cell_type": "markdown",
   "id": "81be57a5-cef6-46f7-bfdb-12c639768954",
   "metadata": {},
   "source": [
    "The first half of this puzzle is complete! It provides one gold star: *\n",
    "\n",
    "--- Part Two ---\n",
    "The engineers are surprised by the low number of safe reports until they realize they forgot to tell you about the Problem Dampener.\n",
    "\n",
    "The Problem Dampener is a reactor-mounted module that lets the reactor safety systems tolerate a single bad level in what would otherwise be a safe report. It's like the bad level never happened!\n",
    "\n",
    "Now, the same rules apply as before, except if removing a single level from an unsafe report would make it safe, the report instead counts as safe.\n",
    "\n",
    "More of the above example's reports are now safe:\n",
    "\n",
    "- 7 6 4 2 1: Safe without removing any level. \n",
    "- 1 2 7 8 9: Unsafe regardless of which level is removed.\n",
    "- 9 7 6 2 1: Unsafe regardless of which level is removed.\n",
    "- 1 3 2 4 5: Safe by removing the second level, 3.\n",
    "- 8 6 4 4 1: Safe by removing the third level, 4.\n",
    "- 1 3 6 7 9: Safe without removing any level.\n",
    "Thanks to the Problem Dampener, 4 reports are actually safe!\n",
    "\n",
    "*Update your analysis by handling situations where the Problem Dampener can remove a single level from unsafe reports. How many reports are now safe?*"
   ]
  },
  {
   "cell_type": "markdown",
   "id": "e23b8e06-9c57-4492-8954-4416b57e7b07",
   "metadata": {},
   "source": [
    "### LLma Response "
   ]
  },
  {
   "cell_type": "markdown",
   "id": "4c6390ce-f0e6-4afc-a8d7-9b459b8308f1",
   "metadata": {},
   "source": [
    "#### General Approach\n",
    "To solve this part of the problem, we will:\n",
    "1. Update the `is_safe` function to check if a report is safe without removing any levels.\n",
    "2. Create a new function `is_safe_with_dampener` that checks if a report can be made safe by removing a single level using the Problem Dampener.\n",
    "3. In `is_safe_with_dampener`, we will iterate over each level in the report, temporarily remove it, and check if the resulting report is safe without removing any levels.\n",
    "4. If we find a level that, when removed, makes the report safe, we consider the original report as safe.\n",
    "5. Update the `count_safe_reports` function to use `is_safe_with_dampener` instead of `is_safe` to count the safe reports.\n",
    "\n",
    "##### Edge Cases and Assumptions\n",
    "- The input file is assumed to exist and contain valid reports, with each report containing the same number of levels.\n",
    "- Each line in the input file contains a report, which is a list of integers separated by spaces.\n",
    "- The levels within a report are assumed to be integers.\n"
   ]
  },
  {
   "cell_type": "code",
   "execution_count": 20,
   "id": "a2924402-3370-4b1d-a57d-806c58070845",
   "metadata": {},
   "outputs": [
    {
     "name": "stdout",
     "output_type": "stream",
     "text": [
      "The number of safe reports is: 544\n"
     ]
    }
   ],
   "source": [
    "def is_safe(report):\n",
    "    \"\"\"\n",
    "    Check if a report is safe.\n",
    "\n",
    "    A report is safe if:\n",
    "    - The levels are either all increasing or all decreasing.\n",
    "    - Any two adjacent levels differ by at least one and at most three.\n",
    "\n",
    "    Args:\n",
    "        report (list): A list of integers representing the levels in the report.\n",
    "\n",
    "    Returns:\n",
    "        bool: True if the report is safe, False otherwise.\n",
    "    \"\"\"\n",
    "    is_increasing = is_decreasing = True\n",
    "\n",
    "    for i in range(len(report) - 1):\n",
    "        diff = abs(report[i] - report[i + 1])\n",
    "        if diff < 1 or diff > 3:\n",
    "            return False\n",
    "        if report[i] > report[i + 1]:\n",
    "            is_increasing = False\n",
    "        if report[i] < report[i + 1]:\n",
    "            is_decreasing = False\n",
    "\n",
    "    return is_increasing or is_decreasing\n",
    "\n",
    "\n",
    "def is_safe_with_dampener(report):\n",
    "    \"\"\"\n",
    "    Check if a report can be made safe by removing a single level using the Problem Dampener.\n",
    "\n",
    "    Args:\n",
    "        report (list): A list of integers representing the levels in the report.\n",
    "\n",
    "    Returns:\n",
    "        bool: True if the report can be made safe, False otherwise.\n",
    "    \"\"\"\n",
    "    if is_safe(report):\n",
    "        return True\n",
    "\n",
    "    for i in range(len(report)):\n",
    "        temp_report = report[:i] + report[i+1:]\n",
    "        if is_safe(temp_report):\n",
    "            return True\n",
    "\n",
    "    return False\n",
    "\n",
    "\n",
    "def count_safe_reports(reports):\n",
    "    \"\"\"\n",
    "    Count the number of safe reports.\n",
    "\n",
    "    Args:\n",
    "        reports (list): A list of reports, where each report is a list of integers.\n",
    "\n",
    "    Returns:\n",
    "        int: The number of safe reports.\n",
    "    \"\"\"\n",
    "    safe_count = 0\n",
    "    for report in reports:\n",
    "        if is_safe_with_dampener(report):\n",
    "            safe_count += 1\n",
    "    return safe_count\n",
    "\n",
    "\n",
    "def main():\n",
    "    filename = 'input_2.txt'\n",
    "    reports = read_input(filename)\n",
    "    if reports:\n",
    "        safe_count = count_safe_reports(reports)\n",
    "        print(f\"The number of safe reports is: {safe_count}\")\n",
    "    else:\n",
    "        print(\"No input found or an error occurred.\")\n",
    "\n",
    "\n",
    "if __name__ == \"__main__\":\n",
    "    main()"
   ]
  },
  {
   "cell_type": "markdown",
   "id": "1785712d-ff88-4c1e-9219-0b249ba6bb3f",
   "metadata": {},
   "source": [
    "#### Example Usage\n",
    "1. Save the above code into a Python file (e.g., `solution.py`).\n",
    "2. Place your input file (`input.txt`) in the same directory as `solution.py`.\n",
    "3. Run the Python script using your Python interpreter.\n",
    "4. The script will print the number of safe reports found in `input.txt`, considering the Problem Dampener.\n",
    "\n",
    "This solution updates the analysis to account for the Problem Dampener, which allows a single level to be removed from an otherwise unsafe report to make it safe."
   ]
  },
  {
   "cell_type": "markdown",
   "id": "08407119-3e09-4cc2-b6ad-113e7c9a1c2c",
   "metadata": {},
   "source": [
    "# --- Day 3: Mull It Over ---"
   ]
  },
  {
   "cell_type": "markdown",
   "id": "7430afe7-f89e-47bc-a66a-711173d31e13",
   "metadata": {},
   "source": [
    "\"Our computers are having issues, so I have no idea if we have any Chief Historians in stock! You're welcome to check the warehouse, though,\" says the mildly flustered shopkeeper at the North Pole Toboggan Rental Shop. The Historians head out to take a look.\n",
    "\n",
    "The shopkeeper turns to you. \"Any chance you can see why our computers are having issues again?\"\n",
    "\n",
    "The computer appears to be trying to run a program, but its memory (your puzzle input) is corrupted. All of the instructions have been jumbled up!\n",
    "\n"
   ]
  },
  {
   "cell_type": "markdown",
   "id": "8ae8a37a-3a75-48ff-ae5e-1b455fd3b02f",
   "metadata": {},
   "source": [
    "### Quiz 1"
   ]
  },
  {
   "cell_type": "markdown",
   "id": "b7811bd5-00f3-46b9-873b-fbf69cf06b5f",
   "metadata": {},
   "source": [
    "It seems like the goal of the program is just to multiply some numbers. It does that with instructions like mul(X,Y), where X and Y are each 1-3 digit numbers. For instance, mul(44,46) multiplies 44 by 46 to get a result of 2024. Similarly, mul(123,4) would multiply 123 by 4.\n",
    "\n",
    "However, because the program's memory has been corrupted, there are also many invalid characters that should be ignored, even if they look like part of a mul instruction. Sequences like mul(4*, mul(6,9!, ?(12,34), or mul ( 2 , 4 ) do nothing.\n",
    "\n",
    "For example, consider the following section of corrupted memory:\n",
    "\n",
    "**xmul(2,4)%&mul[3,7]!@^do_not_mul(5,5)+mul(32,64]then(mul(11,8)mul(8,5))**\n",
    "\n",
    "Only the four highlighted sections are real mul instructions. Adding up the result of each instruction produces 161 (2\\*4 + 5\\*5 + 11\\*8 + 8\\*5).\n",
    "\n",
    "**Scan the corrupted memory for uncorrupted mul instructions. What do you get if you add up all of the results of the multiplications?**"
   ]
  },
  {
   "cell_type": "markdown",
   "id": "2cd04d78-8ecf-4ee8-b34d-1634b4cdb7e1",
   "metadata": {},
   "source": [
    "#### Llmma Response\n",
    "#### General Approach/Strategy\n",
    "\n",
    "The problem involves scanning a string of corrupted memory for valid `mul` instructions and calculating the sum of their multiplication results. To solve this, we'll use a combination of string parsing and regular expressions to identify valid `mul` instructions, extract the numbers, and then calculate the sum of their products.\n",
    "\n",
    "##### Assumptions and Edge Cases\n",
    "\n",
    "* The input string may contain many invalid characters and sequences that should be ignored.\n",
    "* Valid `mul` instructions are in the format `mul(X,Y)`, where `X` and `Y` are 1-3 digit numbers.\n",
    "* The input string may contain spaces, special characters, and other characters that should be ignored."
   ]
  },
  {
   "cell_type": "code",
   "execution_count": 23,
   "id": "5fe29c25-39ef-4b8c-8298-f7c001fa8d8e",
   "metadata": {},
   "outputs": [
    {
     "name": "stdout",
     "output_type": "stream",
     "text": [
      "The sum of the results of all valid mul instructions is: 182619815\n"
     ]
    }
   ],
   "source": [
    "import re\n",
    "\n",
    "def parse_input(file_name):\n",
    "    \"\"\"Reads and parses the input from the given file.\"\"\"\n",
    "    with open(file_name, 'r') as file:\n",
    "        return file.read()\n",
    "\n",
    "def calculate_sum_of_multiplications(corrupted_memory):\n",
    "    \"\"\"Calculates the sum of the results of all valid mul instructions.\"\"\"\n",
    "    pattern = r'mul\\((\\d{1,3}),(\\d{1,3})\\)'\n",
    "    matches = re.findall(pattern, corrupted_memory)\n",
    "    return sum(int(x) * int(y) for x, y in matches)\n",
    "\n",
    "def main():\n",
    "    corrupted_memory = parse_input('input_3.txt')\n",
    "    result = calculate_sum_of_multiplications(corrupted_memory)\n",
    "    print(f\"The sum of the results of all valid mul instructions is: {result}\")\n",
    "\n",
    "if __name__ == \"__main__\":\n",
    "    main()"
   ]
  },
  {
   "cell_type": "markdown",
   "id": "f7bdaeff-c4ae-4f2e-a86d-06473ac34ba2",
   "metadata": {},
   "source": [
    "#### Explanation\n",
    "\n",
    "1. The `parse_input` function reads the input from the given file and returns the corrupted memory as a string.\n",
    "2. The `calculate_sum_of_multiplications` function uses a regular expression to find all valid `mul` instructions in the corrupted memory. The pattern `mul\\((\\d{1,3}),(\\d{1,3})\\)` matches the string `mul(` followed by 1-3 digits, a comma, 1-3 digits, and a closing parenthesis. The `re.findall` function returns all non-overlapping matches of the pattern in the string as a list of tuples, where each tuple contains the two numbers.\n",
    "3. The function then calculates the sum of the products of the numbers in each match using a generator expression.\n",
    "4. The `main` function calls the `parse_input` and `calculate_sum_of_multiplications` functions and prints the result.\n",
    "\n",
    "#### Example Usage\n",
    "\n",
    "To run the solution, save the Python code to a file (e.g., `solution.py`) and run it using Python (e.g., `python solution.py`). Make sure the `input.txt` file is in the same directory as the Python script. The script will print the sum of the results of all valid `mul` instructions in the corrupted memory."
   ]
  },
  {
   "cell_type": "markdown",
   "id": "f6bf901d-bc7c-4933-9dc2-494df4b9113a",
   "metadata": {},
   "source": [
    "### Quiz 2"
   ]
  },
  {
   "cell_type": "markdown",
   "id": "8865fc57-179e-484e-9fbd-3ef8f3787b8a",
   "metadata": {},
   "source": [
    "#### Llama Response\n",
    "#### Updated Approach/Strategy\n",
    "\n",
    "To handle the new instructions, we'll need to keep track of whether `mul` instructions are currently enabled or disabled. We can do this by adding a boolean flag that is toggled by the `do()` and `don't()` instructions. We'll then only process `mul` instructions when they are enabled."
   ]
  },
  {
   "cell_type": "code",
   "execution_count": 38,
   "id": "db1be72b-c0cf-4f06-87ec-2e69b6ba985b",
   "metadata": {},
   "outputs": [
    {
     "name": "stdout",
     "output_type": "stream",
     "text": [
      "The sum of the results of all enabled mul instructions is: 0\n"
     ]
    }
   ],
   "source": [
    "import re\n",
    "\n",
    "def parse_input(file_name):\n",
    "    \"\"\"Reads and parses the input from the given file.\"\"\"\n",
    "    with open(file_name, 'r') as file:\n",
    "        return file.read()\n",
    "\n",
    "def calculate_sum_of_enabled_multiplications(corrupted_memory):\n",
    "    \"\"\"Calculates the sum of the results of all enabled mul instructions.\"\"\"\n",
    "    pattern_mul = r'mul\\((\\d{1,3}),(\\d{1,3})\\)'\n",
    "    pattern_do = r'do\\(\\)'\n",
    "    pattern_dont = r\"don't\\(\\)\"\n",
    "    matches_mul = re.finditer(pattern_mul, corrupted_memory)\n",
    "    matches_do = re.finditer(pattern_do, corrupted_memory)\n",
    "    matches_dont = re.finditer(pattern_dont, corrupted_memory)\n",
    "\n",
    "    mul_enabled = True\n",
    "    sum_of_multiplications = 0\n",
    "\n",
    "    # Create lists of match positions\n",
    "    matches_do_pos = [match.start() for match in matches_do]\n",
    "    matches_dont_pos = [match.start() for match in matches_dont]\n",
    "\n",
    "    for match in matches_mul:\n",
    "        mul_start = match.start()\n",
    "\n",
    "        # Check if a do() or don't() instruction occurs before the current mul instruction\n",
    "        for pos in matches_do_pos:\n",
    "            if pos > mul_start:\n",
    "                break\n",
    "            elif pos < mul_start:\n",
    "                mul_enabled = True\n",
    "        for pos in matches_dont_pos:\n",
    "            if pos > mul_start:\n",
    "                break\n",
    "            elif pos < mul_start:\n",
    "                mul_enabled = False\n",
    "        if mul_enabled:\n",
    "            x, y = map(int, match.groups())\n",
    "            sum_of_multiplications += x * y\n",
    "\n",
    "    return sum_of_multiplications\n",
    "\n",
    "def main():\n",
    "    corrupted_memory = parse_input('input_3.txt')\n",
    "    result = calculate_sum_of_enabled_multiplications(corrupted_memory)\n",
    "    print(f\"The sum of the results of all enabled mul instructions is: {result}\")\n",
    "\n",
    "if __name__ == \"__main__\":\n",
    "    main()"
   ]
  },
  {
   "cell_type": "markdown",
   "id": "d59573ea-f468-4c0c-b8d3-d0f9451b7549",
   "metadata": {},
   "source": [
    "#### Explanation\n",
    "\n",
    "1. The `calculate_sum_of_enabled_multiplications` function uses regular expressions to find all `mul`, `do()`, and `don't()` instructions in the corrupted memory.\n",
    "2. It keeps track of whether `mul` instructions are currently enabled or disabled using a boolean flag `mul_enabled`.\n",
    "3. The function iterates over all `mul` instructions and checks if a `do()` or `don't()` instruction occurs before the current `mul` instruction.\n",
    "4. If a `do()` instruction occurs before the current `mul` instruction, it enables `mul` instructions. If a `don't()` instruction occurs before the current `mul` instruction, it disables `mul` instructions.\n",
    "5. The function only processes `mul` instructions when they are enabled.\n",
    "6. The `main` function calls the `parse_input` and `calculate_sum_of_enabled_multiplications` functions and prints the result.\n",
    "\n",
    "#### Example Usage\n",
    "\n",
    "To run the solution, save the Python code to a file (e.g., `solution.py`) and run it using Python (e.g., `python solution.py`). Make sure the `input.txt` file is in the same directory as the Python script. The script will print the sum of the results of all enabled `mul` instructions in the corrupted memory."
   ]
  },
  {
   "cell_type": "markdown",
   "id": "7d67006b-065c-4d0f-a411-8cab49ae95ff",
   "metadata": {},
   "source": [
    "#### Attemp 2 \n",
    "**prompt**: Your answer is 0, which is incorrect. Can you correct the code \n",
    "\n",
    "**response**: The issue with the code is that it's not correctly checking the positions of the `do()` and `don't()` instructions. It should be checking if the current `mul` instruction is after a `do()` or `don't()` instruction.\n",
    "\n",
    "This code first gets all positions of `do()` and `don't()` instructions. Then, for each `mul` instruction, it checks if the last instruction before it is a `do()` or `don't()`. If it's a `do()`, it enables `mul` instructions. If it's a `don't()`, it disables `mul` instructions. If there are no `do()` or `don't()` instructions before the `mul` instruction, it defaults to enabled. If a `do()` instruction comes after a `don't()` instruction, the `mul` instruction is enabled. If a `don't()` instruction comes after a `do()` instruction, the `mul` instruction is disabled.\n"
   ]
  },
  {
   "cell_type": "code",
   "execution_count": 40,
   "id": "a2b82677-648e-4d15-9437-bad1cd3d9ef8",
   "metadata": {},
   "outputs": [
    {
     "name": "stdout",
     "output_type": "stream",
     "text": [
      "The sum of the results of all enabled mul instructions is: 80747545\n"
     ]
    }
   ],
   "source": [
    "import re\n",
    "\n",
    "def parse_input(file_name):\n",
    "    \"\"\"Reads and parses the input from the given file.\"\"\"\n",
    "    with open(file_name, 'r') as file:\n",
    "        return file.read()\n",
    "\n",
    "def calculate_sum_of_enabled_multiplications(corrupted_memory):\n",
    "    \"\"\"Calculates the sum of the results of all enabled mul instructions.\"\"\"\n",
    "    pattern_mul = r'mul\\((\\d{1,3}),(\\d{1,3})\\)'\n",
    "    pattern_do = r'do\\(\\)'\n",
    "    pattern_dont = r\"don't\\(\\)\"\n",
    "    matches_mul = re.finditer(pattern_mul, corrupted_memory)\n",
    "    matches_do = re.finditer(pattern_do, corrupted_memory)\n",
    "    matches_dont = re.finditer(pattern_dont, corrupted_memory)\n",
    "\n",
    "    mul_enabled = True\n",
    "    sum_of_multiplications = 0\n",
    "\n",
    "    # Get all positions of do() and don't()\n",
    "    do_positions = [match.start() for match in matches_do]\n",
    "    dont_positions = [match.start() for match in matches_dont]\n",
    "\n",
    "    for match in matches_mul:\n",
    "        mul_start = match.start()\n",
    "        # Check if the last instruction before the current mul is a do() or don't()\n",
    "        last_do = next((pos for pos in reversed(do_positions) if pos < mul_start), None)\n",
    "        last_dont = next((pos for pos in reversed(dont_positions) if pos < mul_start), None)\n",
    "\n",
    "        if last_do is None and last_dont is None:\n",
    "            mul_enabled = True  # Default to enabled if no do() or don't()\n",
    "        elif last_do is not None and (last_dont is None or last_do > last_dont):\n",
    "            mul_enabled = True\n",
    "        else:\n",
    "            mul_enabled = False\n",
    "\n",
    "        if mul_enabled:\n",
    "            x, y = map(int, match.groups())\n",
    "            sum_of_multiplications += x * y\n",
    "\n",
    "    return sum_of_multiplications\n",
    "\n",
    "def main():\n",
    "    corrupted_memory = parse_input('input_3.txt')\n",
    "    result = calculate_sum_of_enabled_multiplications(corrupted_memory)\n",
    "    print(f\"The sum of the results of all enabled mul instructions is: {result}\")\n",
    "\n",
    "if __name__ == \"__main__\":\n",
    "    main()"
   ]
  },
  {
   "cell_type": "markdown",
   "id": "c94b5ef9-9b50-453e-9502-e95f37f76289",
   "metadata": {},
   "source": [
    "# --- Day 4: Ceres Search ---"
   ]
  },
  {
   "cell_type": "markdown",
   "id": "428c1f46-d78f-4f3e-9eb7-ca9c3f262cab",
   "metadata": {},
   "source": [
    "## General Approach/Strategy\n",
    "\n",
    "To solve this problem, we will:\n",
    "1. Read and parse the input from 'input.txt' as a 2D grid of characters.\n",
    "2. Define the possible orientations and directions where the word 'XMAS' can appear in the grid, including horizontal, vertical, diagonal, and backwards.\n",
    "3. Iterate through the grid and check for each possible orientation if the word 'XMAS' is present at the current position.\n",
    "4. Count the total occurrences of 'XMAS' in all possible orientations and positions.\n",
    "\n",
    "## Edge Cases and Assumptions\n",
    "\n",
    "* We assume that the word 'XMAS' can overlap with other instances of itself, as per the problem description.\n",
    "* The input grid is not assumed to be rectangular or square. We will handle grids of any shape and size.\n",
    "* The word 'XMAS' can be present in the grid in any case (lowercase or uppercase), but the problem description suggests that we should be looking for an exact match. We will treat the word 'XMAS' as case-sensitive.\n"
   ]
  },
  {
   "cell_type": "markdown",
   "id": "32035d55-2172-4914-bad0-35a14a18f8ae",
   "metadata": {},
   "source": [
    "## Quiz 1"
   ]
  },
  {
   "cell_type": "markdown",
   "id": "502fa616-8013-4bad-888b-fef23b462c51",
   "metadata": {},
   "source": [
    "This word search allows words to be horizontal, vertical, diagonal, written backwards, or even overlapping other words. It's a little unusual, though, as you don't merely need to find one instance of XMAS - you need to find all of them. Here are a few ways XMAS might appear, where irrelevant characters have been replaced with .:\n",
    "\n",
    "\n",
    "..X...\\\n",
    ".SAMX.\\\n",
    ".A..A.\\\n",
    "XMAS.S\\\n",
    ".X....\n",
    "\n",
    "The actual word search will be full of letters instead. For example:\n",
    "\n",
    "MMMSXXMASM \\\n",
    "MSAMXMSMSA \\\n",
    "AMXSXMAAMM \\\n",
    "MSAMASMSMX \\\n",
    "XMASAMXAMM \\\n",
    "XXAMMXXAMA \\\n",
    "SMSMSASXSS \\\n",
    "SAXAMASAAA \\\n",
    "MAMMMXMMMM \\\n",
    "MXMXAXMASX \n",
    "\n",
    "In this word search, XMAS occurs a total of 18 times; here's the same word search again, but where letters not involved in any XMAS have been replaced with .:\n",
    "\n",
    "....XXMAS. \\\n",
    ".SAMXMS... \\\n",
    "...S..A... \\\n",
    "..A.A.MS.X \\ \n",
    "XMASAMX.MM \\\n",
    "X.....XA.A \\\n",
    "S.S.S.S.SS \\\n",
    ".A.A.A.A.A \\ \n",
    "..M.M.M.MM \\\n",
    ".X.X.XMASX \\\n",
    "\n",
    "**Take a look at the little Elf's word search. How many times does XMAS appear?**"
   ]
  },
  {
   "cell_type": "markdown",
   "id": "25203770-63f3-45b5-accf-db1479475b97",
   "metadata": {},
   "source": [
    "### Llama Response\n",
    "#### General Approach/Strategy\n",
    "\n",
    "To solve this problem, we will:\n",
    "1. Read and parse the input from 'input.txt' as a 2D grid of characters.\n",
    "2. Define the possible orientations and directions where the word 'XMAS' can appear in the grid, including horizontal, vertical, diagonal, and backwards.\n",
    "3. Iterate through the grid and check for each possible orientation if the word 'XMAS' is present at the current position.\n",
    "4. Count the total occurrences of 'XMAS' in all possible orientations and positions.\n",
    "\n",
    "#### Edge Cases and Assumptions\n",
    "\n",
    "* We assume that the word 'XMAS' can overlap with other instances of itself, as per the problem description.\n",
    "* The input grid is not assumed to be rectangular or square. We will handle grids of any shape and size.\n",
    "* The word 'XMAS' can be present in the grid in any case (lowercase or uppercase), but the problem description suggests that we should be looking for an exact match. We will treat the word 'XMAS' as case-sensitive.\n"
   ]
  },
  {
   "cell_type": "code",
   "execution_count": 42,
   "id": "06282306-57b5-4e2c-8979-460e199b98f0",
   "metadata": {},
   "outputs": [
    {
     "name": "stdout",
     "output_type": "stream",
     "text": [
      "XMAS occurs 2618 times.\n"
     ]
    }
   ],
   "source": [
    "def read_input(file_name):\n",
    "    \"\"\"\n",
    "    Reads and parses the input from 'input.txt' as a 2D grid of characters.\n",
    "\n",
    "    Args:\n",
    "        file_name (str): The name of the input file.\n",
    "\n",
    "    Returns:\n",
    "        list[list[str]]: A 2D list of characters representing the input grid.\n",
    "    \"\"\"\n",
    "    with open(file_name, 'r') as file:\n",
    "        return [list(line.strip()) for line in file.readlines()]\n",
    "\n",
    "\n",
    "def count_xmas(grid):\n",
    "    \"\"\"\n",
    "    Counts the occurrences of 'XMAS' in the input grid considering all possible orientations.\n",
    "\n",
    "    Args:\n",
    "        grid (list[list[str]]): A 2D list of characters representing the input grid.\n",
    "\n",
    "    Returns:\n",
    "        int: The total occurrences of 'XMAS' in the grid.\n",
    "    \"\"\"\n",
    "    # Define the word to search for\n",
    "    word = 'XMAS'\n",
    "    \n",
    "    # Initialize a counter for occurrences of 'XMAS'\n",
    "    count = 0\n",
    "\n",
    "    # Define possible orientations and directions\n",
    "    directions = [(1, 0), (0, 1), (1, 1), (1, -1), (-1, 0), (0, -1), (-1, -1), (-1, 1)]\n",
    "    word_length = len(word)\n",
    "\n",
    "    # Iterate through the grid\n",
    "    for x in range(len(grid)):\n",
    "        for y in range(len(grid[x])):\n",
    "            # Check for each possible direction\n",
    "            for dx, dy in directions:\n",
    "                # Initialize a flag to indicate if 'XMAS' is found\n",
    "                found = True\n",
    "\n",
    "                # Check if the word matches at the current position\n",
    "                for i in range(word_length):\n",
    "                    # Calculate the position\n",
    "                    pos_x = x + dx * i\n",
    "                    pos_y = y + dy * i\n",
    "\n",
    "                    # Check if the position is within the grid\n",
    "                    if pos_x < 0 or pos_x >= len(grid) or pos_y < 0 or pos_y >= len(grid[pos_x]):\n",
    "                        # Position is out of bounds, so 'XMAS' cannot be here\n",
    "                        found = False\n",
    "                        break\n",
    "\n",
    "                    # Check if the character at the current position matches\n",
    "                    if grid[pos_x][pos_y].upper() != word[i].upper():\n",
    "                        # The characters do not match, so 'XMAS' is not here\n",
    "                        found = False\n",
    "                        break\n",
    "\n",
    "                # If the word is found, increment the counter\n",
    "                if found:\n",
    "                    count += 1\n",
    "\n",
    "    return count\n",
    "\n",
    "\n",
    "def main():\n",
    "    # Read the input from the file\n",
    "    grid = read_input('input_4.txt')\n",
    "\n",
    "    # Count the occurrences of 'XMAS'\n",
    "    count = count_xmas(grid)\n",
    "\n",
    "    print(\"The word 'XMAS' occurs\", count, \"times in the grid.\")\n",
    "\n",
    "\n",
    "if __name__ == \"__main__\":\n",
    "    main()"
   ]
  },
  {
   "cell_type": "markdown",
   "id": "00cc02a1-e498-4a0a-8e98-49f7c637db33",
   "metadata": {},
   "source": [
    "This Python solution defines two main functions: `read_input` for reading and parsing the input from the file, and `count_xmas` for counting the occurrences of 'XMAS' in the input grid considering all possible orientations and positions.\n",
    "\n",
    "In the `main` function, we call `read_input` to read the input from the file, then call `count_xmas` to count the occurrences of 'XMAS', and finally print the result.\n",
    "\n",
    "The code includes comments for clarity and is divided into separate functions for better organization. The code handles any grid shape or size and treats the word 'XMAS' as case-insensitive.\n",
    "\n",
    "Please replace `'input.txt'` with the actual path to your input file when running the script.\n",
    "\n",
    "Example usage:\n",
    "- Save the script as `xmas_count.py`.\n",
    "- Place the input file `input.txt` in the same directory as the script.\n",
    "- Run the script using `python xmas_count.py`.\n",
    "- The script will print the total occurrences of 'XMAS' in the grid."
   ]
  },
  {
   "cell_type": "markdown",
   "id": "444358d3-39b0-4fc2-8023-8397be69d850",
   "metadata": {},
   "source": [
    "### Quiz 2"
   ]
  },
  {
   "cell_type": "markdown",
   "id": "f2989124-e343-4914-b420-f5b360086c6f",
   "metadata": {},
   "source": [
    "--- Part Two ---\n",
    "\n",
    "The Elf looks quizzically at you. Did you misunderstand the assignment?\n",
    "\n",
    "Looking for the instructions, you flip over the word search to find that this isn't actually an XMAS puzzle; it's an X-MAS puzzle in which you're supposed to find two MAS in the shape of an X. One way to achieve that is like this:\n",
    "\n",
    "M.S \\\n",
    ".A. \\\n",
    "M.S \n",
    "\n",
    "Irrelevant characters have again been replaced with . in the above diagram. Within the X, each MAS can be written forwards or backwards.\n",
    "\n",
    "Here's the same example from before, but this time all of the X-MASes have been kept instead:\n",
    "\n",
    ".M.S...... \\\n",
    "..A..MSMS. \\\n",
    ".M.S.MAA.. \\\n",
    "..A.ASMSM. \\\n",
    ".M.S.M.... \\\n",
    ".......... \\\n",
    "S.S.S.S.S. \\\n",
    ".A.A.A.A.. \\\n",
    "M.M.M.M.M. \n",
    "\n",
    "..........\n",
    "\n",
    "In this example, an X-MAS appears 9 times.\n",
    "\n",
    "**Flip the word search from the instructions back over to the word search side and try again. How many times does an X-MAS appear?**"
   ]
  },
  {
   "cell_type": "markdown",
   "id": "9d8c9354-087c-4aed-b110-92f2a135491f",
   "metadata": {},
   "source": [
    "### LLma response \n",
    "#### General Approach/Strategy\n",
    "\n",
    "To solve this problem, we will:\n",
    "1. Read and parse the input from 'input.txt' as a 2D grid of characters.\n",
    "2. Define the possible orientations and structures of an X-MAS, which consists of two MAS in the shape of an X.\n",
    "3. Iterate through the grid and check for each possible structure if an X-MAS is present at the current position.\n",
    "4. Count the total occurrences of X-MAS in all possible structures and positions.\n",
    "\n",
    "#### Edge Cases and Assumptions\n",
    "\n",
    "* We assume that the MAS within the X can be written forwards or backwards.\n",
    "* The input grid is not assumed to be rectangular or square. We will handle grids of any shape and size.\n",
    "* The X-MAS can appear in any case (lowercase or uppercase), but the problem description suggests that we should be looking for an exact match. We will treat the X-MAS as case-insensitive."
   ]
  },
  {
   "cell_type": "code",
   "execution_count": 53,
   "id": "abf98717-53b1-4c68-b50c-7ba4760da421",
   "metadata": {},
   "outputs": [
    {
     "name": "stdout",
     "output_type": "stream",
     "text": [
      "The X-MAS appears 1994 times in the grid.\n"
     ]
    }
   ],
   "source": [
    "def read_input(file_name):\n",
    "    \"\"\"\n",
    "    Reads and parses the input from 'input.txt' as a 2D grid of characters.\n",
    "\n",
    "    Args:\n",
    "        file_name (str): The name of the input file.\n",
    "\n",
    "    Returns:\n",
    "        list[list[str]]: A 2D list of characters representing the input grid.\n",
    "    \"\"\"\n",
    "    with open(file_name, 'r') as file:\n",
    "        return [list(line.strip()) for line in file.readlines()]\n",
    "\n",
    "\n",
    "def count_xmas(grid):\n",
    "    \"\"\"\n",
    "    Counts the occurrences of X-MAS in the input grid considering all possible orientations.\n",
    "\n",
    "    Args:\n",
    "        grid (list[list[str]]): A 2D list of characters representing the input grid.\n",
    "\n",
    "    Returns:\n",
    "        int: The total occurrences of X-MAS in the grid.\n",
    "    \"\"\"\n",
    "    # Initialize a counter for occurrences of X-MAS\n",
    "    count = 0\n",
    "\n",
    "    # Define possible MAS patterns\n",
    "    mas_patterns = ['MAS', 'SAM']\n",
    "\n",
    "    # Iterate through the grid\n",
    "    for x in range(len(grid) - 2):\n",
    "        for y in range(len(grid[x]) - 2):\n",
    "            # Check for each possible MAS pattern\n",
    "            for mas in mas_patterns:\n",
    "                # Check for the MAS in the top-left and bottom-right positions\n",
    "                if (grid[x][y] + grid[x+1][y+1] + grid[x+2][y+2]).upper() == mas.upper():\n",
    "                    # Check for the MAS in the top-right and bottom-left positions\n",
    "                    if (grid[x][y+2] + grid[x+1][y+1] + grid[x+2][y]).upper() == mas.upper():\n",
    "                        count += 1\n",
    "\n",
    "                # Check for the MAS in the top-left and bottom-right positions (reversed)\n",
    "                if (grid[x][y] + grid[x+1][y+1] + grid[x+2][y+2])[::-1].upper() == mas.upper():\n",
    "                    # Check for the MAS in the top-right and bottom-left positions (reversed)\n",
    "                    if (grid[x][y+2] + grid[x+1][y+1] + grid[x+2][y])[::-1].upper() == mas.upper():\n",
    "                        count += 1\n",
    "\n",
    "    return count\n",
    "\n",
    "\n",
    "def main():\n",
    "    # Read the input from the file\n",
    "    grid = read_input('input_4.txt')\n",
    "\n",
    "    # Count the occurrences of X-MAS\n",
    "    count = count_xmas(grid)\n",
    "\n",
    "    print(\"The X-MAS appears\", count, \"times in the grid.\")\n",
    "\n",
    "\n",
    "if __name__ == \"__main__\":\n",
    "    main()"
   ]
  },
  {
   "cell_type": "markdown",
   "id": "7d958b33-f9cb-4dc0-a92a-9f863e8301f5",
   "metadata": {},
   "source": [
    "This Python solution defines two main functions: `read_input` for reading and parsing the input from the file, and `count_xmas` for counting the occurrences of X-MAS in the input grid considering all possible orientations and positions.\n",
    "\n",
    "In the `main` function, we call `read_input` to read the input from the file, then call `count_xmas` to count the occurrences of X-MAS, and finally print the result.\n",
    "\n",
    "The code includes comments for clarity and is divided into separate functions for better organization. The code handles any grid shape or size and treats the X-MAS as case-insensitive.\n",
    "\n",
    "Please replace `'input.txt'` with the actual path to your input file when running the script.\n",
    "\n",
    "Example usage:\n",
    "- Save the script as `xmas_count.py`.\n",
    "- Place the input file `input.txt` in the same directory as the script.\n",
    "- Run the script using `python xmas_count.py`.\n",
    "- The script will print the total occurrences of X-MAS in the grid."
   ]
  },
  {
   "cell_type": "markdown",
   "id": "2eaf78da-fcc3-4eaf-a91a-998452ce621a",
   "metadata": {},
   "source": [
    "#### Attemp 2 \n",
    "**prompt**: You gave 1994 as answer which is to low, can you correct the code ?\n",
    "\n",
    "**response**: Upon re-examining the code, I realized that the issue lies in the way we're checking for the X-MAS pattern. We need to check for both the MAS pattern and the reversed MAS pattern in all possible positions.\n",
    "\n",
    "Here's the corrected code:\n"
   ]
  },
  {
   "cell_type": "code",
   "execution_count": 55,
   "id": "23fdaad5-93f3-4069-ae4e-d923cbe1f6fb",
   "metadata": {},
   "outputs": [
    {
     "name": "stdout",
     "output_type": "stream",
     "text": [
      "The X-MAS appears 112 times in the grid.\n"
     ]
    }
   ],
   "source": [
    "def read_input(file_name):\n",
    "    \"\"\"\n",
    "    Reads and parses the input from 'input.txt' as a 2D grid of characters.\n",
    "\n",
    "    Args:\n",
    "        file_name (str): The name of the input file.\n",
    "\n",
    "    Returns:\n",
    "        list[list[str]]: A 2D list of characters representing the input grid.\n",
    "    \"\"\"\n",
    "    with open(file_name, 'r') as file:\n",
    "        return [list(line.strip()) for line in file.readlines()]\n",
    "\n",
    "\n",
    "def count_xmas(grid):\n",
    "    \"\"\"\n",
    "    Counts the occurrences of X-MAS in the input grid considering all possible orientations.\n",
    "\n",
    "    Args:\n",
    "        grid (list[list[str]]): A 2D list of characters representing the input grid.\n",
    "\n",
    "    Returns:\n",
    "        int: The total occurrences of X-MAS in the grid.\n",
    "    \"\"\"\n",
    "    # Initialize a counter for occurrences of X-MAS\n",
    "    count = 0\n",
    "\n",
    "    # Define possible MAS patterns\n",
    "    mas = 'MAS'\n",
    "    sam = 'SAM'\n",
    "\n",
    "    # Iterate through the grid\n",
    "    for x in range(len(grid) - 2):\n",
    "        for y in range(len(grid[x]) - 2):\n",
    "            # Check for the MAS pattern in the current position\n",
    "            if (grid[x][y] == mas[0] or grid[x][y] == sam[2]) and (grid[x+2][y+2] == mas[0] or grid[x+2][y+2] == sam[2]):\n",
    "                # Check for the 'A' in the middle position\n",
    "                if grid[x+1][y+1] == mas[1] or grid[x+1][y+1] == sam[1]:\n",
    "                    # Check for the other MAS pattern in the current position\n",
    "                    if (grid[x][y+2] == mas[0] or grid[x][y+2] == sam[2]) and (grid[x+2][y] == mas[0] or grid[x+2][y] == sam[2]):\n",
    "                        count += 1\n",
    "\n",
    "    return count\n",
    "\n",
    "\n",
    "def main():\n",
    "    # Read the input from the file\n",
    "    grid = read_input('input_4.txt')\n",
    "\n",
    "    # Count the occurrences of X-MAS\n",
    "    count = count_xmas(grid)\n",
    "\n",
    "    print(\"The X-MAS appears\", count, \"times in the grid.\")\n",
    "\n",
    "\n",
    "if __name__ == \"__main__\":\n",
    "    main()"
   ]
  },
  {
   "cell_type": "markdown",
   "id": "72055a65-bc24-40c9-9fec-c0f0d0c5e6ae",
   "metadata": {},
   "source": [
    "This corrected code checks for both the MAS pattern and the reversed MAS pattern in all possible positions and counts the occurrences of X-MAS accordingly."
   ]
  },
  {
   "cell_type": "code",
   "execution_count": null,
   "id": "715639e3-2d84-4992-aad8-b70eb5700f86",
   "metadata": {},
   "outputs": [],
   "source": []
  }
 ],
 "metadata": {
  "kernelspec": {
   "display_name": "Python 3 (ipykernel)",
   "language": "python",
   "name": "python3"
  },
  "language_info": {
   "codemirror_mode": {
    "name": "ipython",
    "version": 3
   },
   "file_extension": ".py",
   "mimetype": "text/x-python",
   "name": "python",
   "nbconvert_exporter": "python",
   "pygments_lexer": "ipython3",
   "version": "3.12.3"
  }
 },
 "nbformat": 4,
 "nbformat_minor": 5
}
